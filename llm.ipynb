{
 "cells": [
  {
   "cell_type": "code",
   "execution_count": null,
   "id": "74514ab8",
   "metadata": {},
   "outputs": [],
   "source": [
    "import torch\n",
    "import torch.nn as nn\n",
    "from torch.nn import functional as F\n",
    "device = 'cuda' if torch.cuda.is_available() else 'cpu'\n",
    "print(device)\n",
    "block_size = 8\n",
    "batch_size = 4\n",
    "max_iters = 1000\n",
    "# eval_interval = 2500\n",
    "learning_rate = 3e-4\n",
    "eval_iters = 250"
   ]
  },
  {
   "cell_type": "code",
   "execution_count": 4,
   "id": "ac72a07d",
   "metadata": {},
   "outputs": [
    {
     "name": "stdout",
     "output_type": "stream",
     "text": [
      "['\\n', ' ', '!', '\"', '#', '$', '%', '&', \"'\", '(', ')', '*', ',', '-', '.', '/', '0', '1', '2', '3', '4', '5', '6', '7', '8', '9', ':', ';', '?', 'A', 'B', 'C', 'D', 'E', 'F', 'G', 'H', 'I', 'J', 'K', 'L', 'M', 'N', 'O', 'P', 'Q', 'R', 'S', 'T', 'U', 'V', 'W', 'X', 'Y', 'Z', '[', ']', 'a', 'b', 'c', 'd', 'e', 'f', 'g', 'h', 'i', 'j', 'k', 'l', 'm', 'n', 'o', 'p', 'q', 'r', 's', 't', 'u', 'v', 'w', 'x', 'y', 'z', '—', '‘', '’', '“', '”', '•', '™', '\\ufeff']\n"
     ]
    }
   ],
   "source": [
    "with open('wizard_of_oz.txt', 'r', encoding='utf-8') as f:\n",
    "    text = f.read()\n",
    "chars = sorted(set(text))\n",
    "print(chars)\n",
    "vocab_size = len(chars)\n"
   ]
  },
  {
   "cell_type": "code",
   "execution_count": 3,
   "id": "7586970e",
   "metadata": {},
   "outputs": [
    {
     "name": "stdout",
     "output_type": "stream",
     "text": [
      "cpu\n",
      "['\\n', ' ', '!', '\"', '#', '$', '%', '&', \"'\", '(', ')', '*', ',', '-', '.', '/', '0', '1', '2', '3', '4', '5', '6', '7', '8', '9', ':', ';', '?', 'A', 'B', 'C', 'D', 'E', 'F', 'G', 'H', 'I', 'J', 'K', 'L', 'M', 'N', 'O', 'P', 'Q', 'R', 'S', 'T', 'U', 'V', 'W', 'X', 'Y', 'Z', '[', ']', 'a', 'b', 'c', 'd', 'e', 'f', 'g', 'h', 'i', 'j', 'k', 'l', 'm', 'n', 'o', 'p', 'q', 'r', 's', 't', 'u', 'v', 'w', 'x', 'y', 'z', '—', '‘', '’', '“', '”', '•', '™', '\\ufeff']\n",
      "Vocab size: 91\n"
     ]
    }
   ],
   "source": [
    "import torch\n",
    "import torch.nn as nn\n",
    "from torch.nn import functional as F\n",
    "\n",
    "device = 'cuda' if torch.cuda.is_available() else 'cpu'\n",
    "print(device)\n",
    "\n",
    "block_size = 8\n",
    "batch_size = 4\n",
    "max_iters = 1000\n",
    "learning_rate = 3e-4\n",
    "eval_iters = 250  # this line ends properly now\n",
    "\n",
    "# Read text file\n",
    "with open('wizard_of_oz.txt', 'r', encoding='utf-8') as f:\n",
    "    text = f.read()\n",
    "\n",
    "# Vocabulary setup\n",
    "chars = sorted(set(text))\n",
    "print(chars)\n",
    "vocab_size = len(chars)\n",
    "print(\"Vocab size:\", vocab_size)\n"
   ]
  },
  {
   "cell_type": "code",
   "execution_count": 1,
   "id": "2f8267d2",
   "metadata": {},
   "outputs": [
    {
     "ename": "SyntaxError",
     "evalue": "invalid syntax (2723662028.py, line 1)",
     "output_type": "error",
     "traceback": [
      "  \u001b[36mCell\u001b[39m\u001b[36m \u001b[39m\u001b[32mIn[1]\u001b[39m\u001b[32m, line 1\u001b[39m\n\u001b[31m    \u001b[39m\u001b[31mpython -m pip install ipykernel -U --user --force-reinstall\u001b[39m\n              ^\n\u001b[31mSyntaxError\u001b[39m\u001b[31m:\u001b[39m invalid syntax\n"
     ]
    }
   ],
   "source": [
    "python -m pip install ipykernel -U --user --force-reinstall"
   ]
  },
  {
   "cell_type": "code",
   "execution_count": 2,
   "id": "90fe7b6c",
   "metadata": {},
   "outputs": [
    {
     "name": "stdout",
     "output_type": "stream",
     "text": [
      "Collecting ipykernel\n",
      "  Using cached ipykernel-6.29.5-py3-none-any.whl (117 kB)\n",
      "Collecting comm>=0.1.1\n",
      "  Using cached comm-0.2.2-py3-none-any.whl (7.2 kB)\n",
      "Collecting debugpy>=1.6.5\n",
      "  Using cached debugpy-1.8.14-cp311-cp311-win_amd64.whl (5.2 MB)\n",
      "Collecting ipython>=7.23.1\n",
      "  Using cached ipython-9.3.0-py3-none-any.whl (605 kB)\n",
      "Collecting jupyter-client>=6.1.12\n",
      "  Using cached jupyter_client-8.6.3-py3-none-any.whl (106 kB)\n",
      "Collecting jupyter-core!=5.0.*,>=4.12\n",
      "  Using cached jupyter_core-5.8.1-py3-none-any.whl (28 kB)\n",
      "Collecting matplotlib-inline>=0.1\n",
      "  Using cached matplotlib_inline-0.1.7-py3-none-any.whl (9.9 kB)\n",
      "Collecting nest-asyncio\n",
      "  Using cached nest_asyncio-1.6.0-py3-none-any.whl (5.2 kB)\n",
      "Collecting packaging\n",
      "  Downloading packaging-25.0-py3-none-any.whl (66 kB)\n",
      "     -------------------------------------- 66.5/66.5 kB 604.6 kB/s eta 0:00:00\n",
      "Collecting psutil\n",
      "  Using cached psutil-7.0.0-cp37-abi3-win_amd64.whl (244 kB)\n",
      "Collecting pyzmq>=24\n",
      "  Using cached pyzmq-26.4.0-cp311-cp311-win_amd64.whl (644 kB)\n",
      "Collecting tornado>=6.1\n",
      "  Downloading tornado-6.5.1-cp39-abi3-win_amd64.whl (444 kB)\n",
      "     -------------------------------------- 444.8/444.8 kB 1.7 MB/s eta 0:00:00\n",
      "Collecting traitlets>=5.4.0\n",
      "  Using cached traitlets-5.14.3-py3-none-any.whl (85 kB)\n",
      "Collecting colorama\n",
      "  Using cached colorama-0.4.6-py2.py3-none-any.whl (25 kB)\n",
      "Collecting decorator\n",
      "  Using cached decorator-5.2.1-py3-none-any.whl (9.2 kB)\n",
      "Collecting ipython-pygments-lexers\n",
      "  Using cached ipython_pygments_lexers-1.1.1-py3-none-any.whl (8.1 kB)\n",
      "Collecting jedi>=0.16\n",
      "  Using cached jedi-0.19.2-py2.py3-none-any.whl (1.6 MB)\n",
      "Collecting prompt_toolkit<3.1.0,>=3.0.41\n",
      "  Using cached prompt_toolkit-3.0.51-py3-none-any.whl (387 kB)\n",
      "Collecting pygments>=2.4.0\n",
      "  Using cached pygments-2.19.1-py3-none-any.whl (1.2 MB)\n",
      "Collecting stack_data\n",
      "  Using cached stack_data-0.6.3-py3-none-any.whl (24 kB)\n",
      "Collecting typing_extensions>=4.6\n",
      "  Downloading typing_extensions-4.14.0-py3-none-any.whl (43 kB)\n",
      "     ---------------------------------------- 43.8/43.8 kB 1.1 MB/s eta 0:00:00\n",
      "Collecting python-dateutil>=2.8.2\n",
      "  Using cached python_dateutil-2.9.0.post0-py2.py3-none-any.whl (229 kB)\n",
      "Collecting platformdirs>=2.5\n",
      "  Using cached platformdirs-4.3.8-py3-none-any.whl (18 kB)\n",
      "Collecting pywin32>=300\n",
      "  Using cached pywin32-310-cp311-cp311-win_amd64.whl (9.5 MB)\n",
      "Collecting parso<0.9.0,>=0.8.4\n",
      "  Using cached parso-0.8.4-py2.py3-none-any.whl (103 kB)\n",
      "Collecting wcwidth\n",
      "  Using cached wcwidth-0.2.13-py2.py3-none-any.whl (34 kB)\n",
      "Collecting six>=1.5\n",
      "  Using cached six-1.17.0-py2.py3-none-any.whl (11 kB)\n",
      "Collecting executing>=1.2.0\n",
      "  Using cached executing-2.2.0-py2.py3-none-any.whl (26 kB)\n",
      "Collecting asttokens>=2.1.0\n",
      "  Using cached asttokens-3.0.0-py3-none-any.whl (26 kB)\n",
      "Collecting pure-eval\n",
      "  Using cached pure_eval-0.2.3-py3-none-any.whl (11 kB)\n",
      "Installing collected packages: wcwidth, pywin32, pure-eval, typing_extensions, traitlets, tornado, six, pyzmq, pygments, psutil, prompt_toolkit, platformdirs, parso, packaging, nest-asyncio, executing, decorator, debugpy, colorama, asttokens, stack_data, python-dateutil, matplotlib-inline, jupyter-core, jedi, ipython-pygments-lexers, comm, jupyter-client, ipython, ipykernel\n",
      "  Attempting uninstall: wcwidth\n",
      "    Found existing installation: wcwidth 0.2.13\n",
      "    Uninstalling wcwidth-0.2.13:\n",
      "      Successfully uninstalled wcwidth-0.2.13\n",
      "  Attempting uninstall: pywin32\n",
      "    Found existing installation: pywin32 310\n",
      "    Uninstalling pywin32-310:\n",
      "      Successfully uninstalled pywin32-310\n",
      "  Attempting uninstall: pure-eval\n",
      "    Found existing installation: pure_eval 0.2.3\n",
      "    Uninstalling pure_eval-0.2.3:\n",
      "      Successfully uninstalled pure_eval-0.2.3\n",
      "  Attempting uninstall: traitlets\n",
      "    Found existing installation: traitlets 5.14.3\n",
      "    Uninstalling traitlets-5.14.3:\n",
      "      Successfully uninstalled traitlets-5.14.3\n",
      "  Attempting uninstall: pyzmq\n",
      "    Found existing installation: pyzmq 26.4.0\n",
      "    Uninstalling pyzmq-26.4.0:\n",
      "      Successfully uninstalled pyzmq-26.4.0\n"
     ]
    },
    {
     "name": "stderr",
     "output_type": "stream",
     "text": [
      "ERROR: Could not install packages due to an OSError: [WinError 5] Access is denied: 'C:\\\\Users\\\\Gurudev\\\\AppData\\\\Roaming\\\\Python\\\\Python311\\\\site-packages\\\\~mq\\\\backend\\\\cython\\\\_zmq.cp311-win_amd64.pyd'\n",
      "Check the permissions.\n",
      "\n",
      "\n",
      "[notice] A new release of pip available: 22.3 -> 25.1.1\n",
      "[notice] To update, run: python.exe -m pip install --upgrade pip\n"
     ]
    }
   ],
   "source": [
    "!python -m pip install ipykernel -U --user --force-reinstall"
   ]
  }
 ],
 "metadata": {
  "kernelspec": {
   "display_name": "Python 3",
   "language": "python",
   "name": "python3"
  },
  "language_info": {
   "codemirror_mode": {
    "name": "ipython",
    "version": 3
   },
   "file_extension": ".py",
   "mimetype": "text/x-python",
   "name": "python",
   "nbconvert_exporter": "python",
   "pygments_lexer": "ipython3",
   "version": "3.11.0"
  }
 },
 "nbformat": 4,
 "nbformat_minor": 5
}
